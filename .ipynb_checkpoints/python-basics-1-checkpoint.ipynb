{
 "cells": [
  {
   "cell_type": "markdown",
   "metadata": {},
   "source": [
    "# Python basics"
   ]
  },
  {
   "cell_type": "markdown",
   "metadata": {},
   "source": [
    "### Data Types and Operators\n",
    "#### Arithmetic operators\n",
    "\n",
    "- `+` Addition\n",
    "- `-` Subtraction\n",
    "- `*` Multiplication\n",
    "- `/` Division\n",
    "- `%` Mod (the remainder after dividing)\n",
    "- `**` Exponentiation (note that ^ does not do this operation, as you might have seen in other languages)\n",
    "- `//` Divides and rounds down to the nearest integer\n",
    "The usual order of mathematical operations holds in Python.\n",
    "\n",
    "#### Bitwise operators are special operators in Python.\n",
    "- `^` Bitwise XOR and not exponentiation\n",
    "- "
   ]
  },
  {
   "cell_type": "markdown",
   "metadata": {},
   "source": [
    "### Strings"
   ]
  },
  {
   "cell_type": "markdown",
   "metadata": {},
   "source": [
    "#### Format method examples"
   ]
  },
  {
   "cell_type": "code",
   "execution_count": 1,
   "metadata": {},
   "outputs": [
    {
     "name": "stdout",
     "output_type": "stream",
     "text": [
      "Mohammed has 27 balloons\n"
     ]
    }
   ],
   "source": [
    "print(\"Mohammed has {} balloons\".format(27))"
   ]
  },
  {
   "cell_type": "code",
   "execution_count": 3,
   "metadata": {},
   "outputs": [
    {
     "name": "stdout",
     "output_type": "stream",
     "text": [
      "Does your dog bite?\n"
     ]
    }
   ],
   "source": [
    "animal = \"dog\"\n",
    "action = \"bite\"\n",
    "print(\"Does your {} {}?\".format(animal, action))"
   ]
  },
  {
   "cell_type": "code",
   "execution_count": 4,
   "metadata": {},
   "outputs": [
    {
     "name": "stdout",
     "output_type": "stream",
     "text": [
      "Maria loves math and statistics\n"
     ]
    }
   ],
   "source": [
    "maria_string = \"Maria loves {} and {}\"\n",
    "print(maria_string.format(\"math\", \"statistics\"))"
   ]
  },
  {
   "cell_type": "markdown",
   "metadata": {},
   "source": [
    "#### Split method\n",
    "It returns a list. The split method has two additional arguments (sep and maxsplit). The sep argument stands for \"separator\". It can be used to identify how the string should be split up (e.g., whitespace characters like space, tab, return, newline; specific punctuation (e.g., comma, dashes)). If the sep argument is not provided, the default separator is whitespace.\n",
    "\n",
    "True to its name, the maxsplit argument provides the maximum number of splits. The argument gives maxsplit + 1 number of elements in the new list, with the remaining string being returned as the last element in the list"
   ]
  },
  {
   "cell_type": "code",
   "execution_count": 5,
   "metadata": {},
   "outputs": [
    {
     "data": {
      "text/plain": [
       "['The', 'cow', 'jumped', 'over', 'the', 'moon.']"
      ]
     },
     "execution_count": 5,
     "metadata": {},
     "output_type": "execute_result"
    }
   ],
   "source": [
    "# basic\n",
    "new_str = \"The cow jumped over the moon.\"\n",
    "new_str.split() # default split on the basis of white space"
   ]
  },
  {
   "cell_type": "code",
   "execution_count": 6,
   "metadata": {},
   "outputs": [
    {
     "data": {
      "text/plain": [
       "['The', 'cow', 'jumped', 'over the moon.']"
      ]
     },
     "execution_count": 6,
     "metadata": {},
     "output_type": "execute_result"
    }
   ],
   "source": [
    "#separator is space and maximum number of splits = 3\n",
    "new_str.split(' ', 3)"
   ]
  },
  {
   "cell_type": "code",
   "execution_count": 7,
   "metadata": {},
   "outputs": [
    {
     "data": {
      "text/plain": [
       "['The cow jumped over the moon', '']"
      ]
     },
     "execution_count": 7,
     "metadata": {},
     "output_type": "execute_result"
    }
   ],
   "source": [
    "new_str.split('.')"
   ]
  },
  {
   "cell_type": "code",
   "execution_count": 8,
   "metadata": {},
   "outputs": [
    {
     "data": {
      "text/plain": [
       "['The', 'cow', 'jumped', 'over the moon.']"
      ]
     },
     "execution_count": 8,
     "metadata": {},
     "output_type": "execute_result"
    }
   ],
   "source": [
    "# no separator specified , but max splits = 3\n",
    "new_str.split(None, 3)"
   ]
  },
  {
   "cell_type": "markdown",
   "metadata": {},
   "source": [
    "Answer the questions for below:\n",
    "<ol>\n",
    "    <li>What is the length of the string variable `verse` ?\n",
    "    <li>What is the index of the first occurrence of the word 'and' in `verse`?</li>\n",
    "    <li>What is the index of the last occurrence of the word 'you' in `verse`?</li>\n",
    "    <li>What is the count of occurrences of the word 'you' in the `verse`?</li>\n",
    "</ol>    \n",
    "\n",
    "\n"
   ]
  },
  {
   "cell_type": "code",
   "execution_count": 10,
   "metadata": {},
   "outputs": [
    {
     "name": "stdout",
     "output_type": "stream",
     "text": [
      "If you can keep your head when all about you\n",
      "  Are losing theirs and blaming it on you,\n",
      "If you can trust yourself when all men doubt you,\n",
      "  But make allowance for their doubting too;\n",
      "If you can wait and not be tired by waiting,\n",
      "  Or being lied about, don’t deal in lies,\n",
      "Or being hated, don’t give way to hating,\n",
      "  And yet don’t look too good, nor talk too wise:\n"
     ]
    }
   ],
   "source": [
    "verse = \"If you can keep your head when all about you\\n  Are losing theirs and blaming it on you,\\nIf you can trust yourself when all men doubt you,\\n  But make allowance for their doubting too;\\nIf you can wait and not be tired by waiting,\\n  Or being lied about, don’t deal in lies,\\nOr being hated, don’t give way to hating,\\n  And yet don’t look too good, nor talk too wise:\"\n",
    "print(verse)\n",
    "\n",
    "# Use the appropriate functions and methods to answer the questions above\n",
    "# Bonus: practice using .format() to output your answers in descriptive messages!"
   ]
  },
  {
   "cell_type": "code",
   "execution_count": 25,
   "metadata": {},
   "outputs": [
    {
     "name": "stdout",
     "output_type": "stream",
     "text": [
      "The length of the string verse is 362\n",
      "The index of the first occurrence of the word 'and' in verse is 65\n",
      "The index of the last occurrence of the word 'you' in verse is 186\n",
      "The count of occurrences of the word 'you' in the `verse` is 8\n"
     ]
    }
   ],
   "source": [
    "substring_1='and' \n",
    "substring_2 = 'you'\n",
    "print('The length of the string verse is {}'.format(len(verse)))\n",
    "\n",
    "#find for first occurence\n",
    "print('The index of the first occurrence of the word \\'{}\\' in verse is {}'.\n",
    "      format(substring_1,verse.find(substring_1)))\n",
    "#rfind for last occurence\n",
    "print('The index of the last occurrence of the word \\'{}\\' in verse is {}'.\n",
    "      format(substring_2,verse.rfind(substring_2)))\n",
    "#count() ofr counting occurences of a string\n",
    "print('The count of occurrences of the word \\'{}\\' in the `verse` is {}'.\n",
    "      format(substring_2,verse.count(substring_2)))"
   ]
  },
  {
   "cell_type": "markdown",
   "metadata": {},
   "source": [
    "### Python data structures"
   ]
  },
  {
   "cell_type": "markdown",
   "metadata": {},
   "source": [
    "#### Lists\n",
    "Lists are mutable/ ordered data structre and can hold multiple datatypes. Strings are immutable however."
   ]
  },
  {
   "cell_type": "code",
   "execution_count": 32,
   "metadata": {},
   "outputs": [
    {
     "name": "stdout",
     "output_type": "stream",
     "text": [
      "a string\n",
      "True\n",
      "True\n"
     ]
    }
   ],
   "source": [
    "list_of_random_things = [1, 3.4, 'a string', True]\n",
    "print(list_of_random_things[2])\n",
    "#last element\n",
    "print(list_of_random_things[len(list_of_random_things) - 1])\n",
    "\n",
    "# the last element- better way\n",
    "print(list_of_random_things[-1]) \n",
    "print(list_of_random_things[- 1])"
   ]
  },
  {
   "cell_type": "markdown",
   "metadata": {},
   "source": [
    "#### List slicing and dicing\n",
    "When using slicing, it is important to remember that the lower index is inclusive and the upper index is exclusive."
   ]
  },
  {
   "cell_type": "code",
   "execution_count": 34,
   "metadata": {},
   "outputs": [
    {
     "data": {
      "text/plain": [
       "3.4"
      ]
     },
     "execution_count": 34,
     "metadata": {},
     "output_type": "execute_result"
    }
   ],
   "source": [
    "list_of_random_things = [1, 3.4, 'a string', True]\n",
    "# go from starting value on left  to ending value, but excluding the ending value\n",
    "# this returns a list\n",
    "list_of_random_things[1:2]\n",
    "# below is different from above as it returns single element\n",
    "list_of_random_things[1]"
   ]
  },
  {
   "cell_type": "code",
   "execution_count": 35,
   "metadata": {},
   "outputs": [
    {
     "name": "stdout",
     "output_type": "stream",
     "text": [
      "False\n"
     ]
    }
   ],
   "source": [
    "print(list_of_random_things[1:2]==list_of_random_things[1])"
   ]
  },
  {
   "cell_type": "code",
   "execution_count": 36,
   "metadata": {},
   "outputs": [
    {
     "data": {
      "text/plain": [
       "[1, 3.4, 'a string']"
      ]
     },
     "execution_count": 36,
     "metadata": {},
     "output_type": "execute_result"
    }
   ],
   "source": [
    "#start at the beginning and go upto specified value(always excludes)\n",
    "list_of_random_things[:3]"
   ]
  },
  {
   "cell_type": "code",
   "execution_count": 37,
   "metadata": {},
   "outputs": [
    {
     "data": {
      "text/plain": [
       "[3.4, 'a string', True]"
      ]
     },
     "execution_count": 37,
     "metadata": {},
     "output_type": "execute_result"
    }
   ],
   "source": [
    "#return all the elements of the list, excluding the first\n",
    "list_of_random_things[1:]"
   ]
  },
  {
   "cell_type": "markdown",
   "metadata": {},
   "source": [
    "Lists are mutable so we can change individual elements, whereas strings are immutable."
   ]
  },
  {
   "cell_type": "code",
   "execution_count": 39,
   "metadata": {},
   "outputs": [
    {
     "name": "stdout",
     "output_type": "stream",
     "text": [
      "['one', 2, 3, 4, 5]\n"
     ]
    }
   ],
   "source": [
    "my_lst = [1, 2, 3, 4, 5]\n",
    "#change the first element\n",
    "my_lst[0] = 'one' \n",
    "print(my_lst)\n"
   ]
  },
  {
   "cell_type": "code",
   "execution_count": 40,
   "metadata": {},
   "outputs": [
    {
     "ename": "TypeError",
     "evalue": "'str' object does not support item assignment",
     "output_type": "error",
     "traceback": [
      "\u001b[0;31m---------------------------------------------------------------------------\u001b[0m",
      "\u001b[0;31mTypeError\u001b[0m                                 Traceback (most recent call last)",
      "\u001b[0;32m<ipython-input-40-c6dbaf0e8fca>\u001b[0m in \u001b[0;36m<module>\u001b[0;34m\u001b[0m\n\u001b[1;32m      1\u001b[0m \u001b[0;31m# the following code will not work\u001b[0m\u001b[0;34m\u001b[0m\u001b[0;34m\u001b[0m\u001b[0;34m\u001b[0m\u001b[0m\n\u001b[1;32m      2\u001b[0m \u001b[0mgreeting\u001b[0m \u001b[0;34m=\u001b[0m \u001b[0;34m\"Hello there\"\u001b[0m\u001b[0;34m\u001b[0m\u001b[0;34m\u001b[0m\u001b[0m\n\u001b[0;32m----> 3\u001b[0;31m \u001b[0mgreeting\u001b[0m\u001b[0;34m[\u001b[0m\u001b[0;36m0\u001b[0m\u001b[0;34m]\u001b[0m \u001b[0;34m=\u001b[0m \u001b[0;34m'M'\u001b[0m\u001b[0;34m\u001b[0m\u001b[0;34m\u001b[0m\u001b[0m\n\u001b[0m",
      "\u001b[0;31mTypeError\u001b[0m: 'str' object does not support item assignment"
     ]
    }
   ],
   "source": [
    "# the following code will not work\n",
    "greeting = \"Hello there\"\n",
    "greeting[0] = 'M'"
   ]
  },
  {
   "cell_type": "code",
   "execution_count": null,
   "metadata": {},
   "outputs": [],
   "source": []
  }
 ],
 "metadata": {
  "kernelspec": {
   "display_name": "Python 3",
   "language": "python",
   "name": "python3"
  },
  "language_info": {
   "codemirror_mode": {
    "name": "ipython",
    "version": 3
   },
   "file_extension": ".py",
   "mimetype": "text/x-python",
   "name": "python",
   "nbconvert_exporter": "python",
   "pygments_lexer": "ipython3",
   "version": "3.7.7"
  }
 },
 "nbformat": 4,
 "nbformat_minor": 4
}
