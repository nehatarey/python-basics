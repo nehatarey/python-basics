{
 "cells": [
  {
   "cell_type": "markdown",
   "metadata": {},
   "source": [
    "# Python basics"
   ]
  },
  {
   "cell_type": "markdown",
   "metadata": {},
   "source": [
    "### Data Types and Operators\n",
    "#### Arithmetic operators\n",
    "\n",
    "- `+` Addition\n",
    "- `-` Subtraction\n",
    "- `*` Multiplication\n",
    "- `/` Division\n",
    "- `%` Mod (the remainder after dividing)\n",
    "- `**` Exponentiation (note that ^ does not do this operation, as you might have seen in other languages)\n",
    "- `//` Divides and rounds down to the nearest integer\n",
    "The usual order of mathematical operations holds in Python.\n",
    "\n",
    "#### Bitwise operators are special operators in Python.\n",
    "- `^` Bitwise XOR and not exponentiation"
   ]
  },
  {
   "cell_type": "markdown",
   "metadata": {},
   "source": [
    "### Strings"
   ]
  },
  {
   "cell_type": "markdown",
   "metadata": {},
   "source": [
    "#### Format method examples"
   ]
  },
  {
   "cell_type": "code",
   "execution_count": 1,
   "metadata": {},
   "outputs": [
    {
     "name": "stdout",
     "output_type": "stream",
     "text": [
      "Mohammed has 27 balloons\n"
     ]
    }
   ],
   "source": [
    "print(\"Mohammed has {} balloons\".format(27))"
   ]
  },
  {
   "cell_type": "code",
   "execution_count": 3,
   "metadata": {},
   "outputs": [
    {
     "name": "stdout",
     "output_type": "stream",
     "text": [
      "Does your dog bite?\n"
     ]
    }
   ],
   "source": [
    "animal = \"dog\"\n",
    "action = \"bite\"\n",
    "print(\"Does your {} {}?\".format(animal, action))"
   ]
  },
  {
   "cell_type": "code",
   "execution_count": 4,
   "metadata": {},
   "outputs": [
    {
     "name": "stdout",
     "output_type": "stream",
     "text": [
      "Maria loves math and statistics\n"
     ]
    }
   ],
   "source": [
    "maria_string = \"Maria loves {} and {}\"\n",
    "print(maria_string.format(\"math\", \"statistics\"))"
   ]
  },
  {
   "cell_type": "markdown",
   "metadata": {},
   "source": [
    "#### Split method\n",
    "It returns a list. The split method has two additional arguments (sep and maxsplit). The sep argument stands for \"separator\". It can be used to identify how the string should be split up (e.g., whitespace characters like space, tab, return, newline; specific punctuation (e.g., comma, dashes)). If the sep argument is not provided, the default separator is whitespace.\n",
    "\n",
    "True to its name, the maxsplit argument provides the maximum number of splits. The argument gives maxsplit + 1 number of elements in the new list, with the remaining string being returned as the last element in the list"
   ]
  },
  {
   "cell_type": "code",
   "execution_count": 5,
   "metadata": {},
   "outputs": [
    {
     "data": {
      "text/plain": [
       "['The', 'cow', 'jumped', 'over', 'the', 'moon.']"
      ]
     },
     "execution_count": 5,
     "metadata": {},
     "output_type": "execute_result"
    }
   ],
   "source": [
    "# basic\n",
    "new_str = \"The cow jumped over the moon.\"\n",
    "new_str.split() # default split on the basis of white space"
   ]
  },
  {
   "cell_type": "code",
   "execution_count": 6,
   "metadata": {},
   "outputs": [
    {
     "data": {
      "text/plain": [
       "['The', 'cow', 'jumped', 'over the moon.']"
      ]
     },
     "execution_count": 6,
     "metadata": {},
     "output_type": "execute_result"
    }
   ],
   "source": [
    "#separator is space and maximum number of splits = 3\n",
    "new_str.split(' ', 3)"
   ]
  },
  {
   "cell_type": "code",
   "execution_count": 7,
   "metadata": {},
   "outputs": [
    {
     "data": {
      "text/plain": [
       "['The cow jumped over the moon', '']"
      ]
     },
     "execution_count": 7,
     "metadata": {},
     "output_type": "execute_result"
    }
   ],
   "source": [
    "new_str.split('.')"
   ]
  },
  {
   "cell_type": "code",
   "execution_count": 8,
   "metadata": {},
   "outputs": [
    {
     "data": {
      "text/plain": [
       "['The', 'cow', 'jumped', 'over the moon.']"
      ]
     },
     "execution_count": 8,
     "metadata": {},
     "output_type": "execute_result"
    }
   ],
   "source": [
    "# no separator specified , but max splits = 3\n",
    "new_str.split(None, 3)"
   ]
  },
  {
   "cell_type": "markdown",
   "metadata": {},
   "source": [
    "Answer the questions for below:\n",
    "<ol>\n",
    "    <li>What is the length of the string variable `verse` ?\n",
    "    <li>What is the index of the first occurrence of the word 'and' in `verse`?</li>\n",
    "    <li>What is the index of the last occurrence of the word 'you' in `verse`?</li>\n",
    "    <li>What is the count of occurrences of the word 'you' in the `verse`?</li>\n",
    "</ol>    \n",
    "\n",
    "\n"
   ]
  },
  {
   "cell_type": "code",
   "execution_count": 10,
   "metadata": {},
   "outputs": [
    {
     "name": "stdout",
     "output_type": "stream",
     "text": [
      "If you can keep your head when all about you\n",
      "  Are losing theirs and blaming it on you,\n",
      "If you can trust yourself when all men doubt you,\n",
      "  But make allowance for their doubting too;\n",
      "If you can wait and not be tired by waiting,\n",
      "  Or being lied about, don’t deal in lies,\n",
      "Or being hated, don’t give way to hating,\n",
      "  And yet don’t look too good, nor talk too wise:\n"
     ]
    }
   ],
   "source": [
    "verse = \"If you can keep your head when all about you\\n  Are losing theirs and blaming it on you,\\nIf you can trust yourself when all men doubt you,\\n  But make allowance for their doubting too;\\nIf you can wait and not be tired by waiting,\\n  Or being lied about, don’t deal in lies,\\nOr being hated, don’t give way to hating,\\n  And yet don’t look too good, nor talk too wise:\"\n",
    "print(verse)\n",
    "\n",
    "# Use the appropriate functions and methods to answer the questions above\n",
    "# Bonus: practice using .format() to output your answers in descriptive messages!"
   ]
  },
  {
   "cell_type": "code",
   "execution_count": 25,
   "metadata": {},
   "outputs": [
    {
     "name": "stdout",
     "output_type": "stream",
     "text": [
      "The length of the string verse is 362\n",
      "The index of the first occurrence of the word 'and' in verse is 65\n",
      "The index of the last occurrence of the word 'you' in verse is 186\n",
      "The count of occurrences of the word 'you' in the `verse` is 8\n"
     ]
    }
   ],
   "source": [
    "substring_1='and' \n",
    "substring_2 = 'you'\n",
    "print('The length of the string verse is {}'.format(len(verse)))\n",
    "\n",
    "#find for first occurence\n",
    "print('The index of the first occurrence of the word \\'{}\\' in verse is {}'.\n",
    "      format(substring_1,verse.find(substring_1)))\n",
    "#rfind for last occurence\n",
    "print('The index of the last occurrence of the word \\'{}\\' in verse is {}'.\n",
    "      format(substring_2,verse.rfind(substring_2)))\n",
    "#count() ofr counting occurences of a string\n",
    "print('The count of occurrences of the word \\'{}\\' in the `verse` is {}'.\n",
    "      format(substring_2,verse.count(substring_2)))"
   ]
  },
  {
   "cell_type": "markdown",
   "metadata": {},
   "source": [
    "### Python data structures"
   ]
  },
  {
   "cell_type": "markdown",
   "metadata": {},
   "source": [
    "#### Lists\n",
    "Lists are mutable/ ordered data structre and can hold multiple datatypes. Strings are immutable however."
   ]
  },
  {
   "cell_type": "code",
   "execution_count": 32,
   "metadata": {},
   "outputs": [
    {
     "name": "stdout",
     "output_type": "stream",
     "text": [
      "a string\n",
      "True\n",
      "True\n"
     ]
    }
   ],
   "source": [
    "list_of_random_things = [1, 3.4, 'a string', True]\n",
    "print(list_of_random_things[2])\n",
    "#last element\n",
    "print(list_of_random_things[len(list_of_random_things) - 1])\n",
    "\n",
    "# the last element- better way\n",
    "print(list_of_random_things[-1]) \n",
    "print(list_of_random_things[- 1])"
   ]
  },
  {
   "cell_type": "markdown",
   "metadata": {},
   "source": [
    "#### List slicing and dicing\n",
    "When using slicing, it is important to remember that the lower index is inclusive and the upper index is exclusive."
   ]
  },
  {
   "cell_type": "code",
   "execution_count": 34,
   "metadata": {},
   "outputs": [
    {
     "data": {
      "text/plain": [
       "3.4"
      ]
     },
     "execution_count": 34,
     "metadata": {},
     "output_type": "execute_result"
    }
   ],
   "source": [
    "list_of_random_things = [1, 3.4, 'a string', True]\n",
    "# go from starting value on left  to ending value, but excluding the ending value\n",
    "# this returns a list\n",
    "list_of_random_things[1:2]\n",
    "# below is different from above as it returns single element\n",
    "list_of_random_things[1]"
   ]
  },
  {
   "cell_type": "code",
   "execution_count": 35,
   "metadata": {},
   "outputs": [
    {
     "name": "stdout",
     "output_type": "stream",
     "text": [
      "False\n"
     ]
    }
   ],
   "source": [
    "print(list_of_random_things[1:2]==list_of_random_things[1])"
   ]
  },
  {
   "cell_type": "code",
   "execution_count": 36,
   "metadata": {},
   "outputs": [
    {
     "data": {
      "text/plain": [
       "[1, 3.4, 'a string']"
      ]
     },
     "execution_count": 36,
     "metadata": {},
     "output_type": "execute_result"
    }
   ],
   "source": [
    "#start at the beginning and go upto specified value(always excludes)\n",
    "list_of_random_things[:3]"
   ]
  },
  {
   "cell_type": "code",
   "execution_count": 37,
   "metadata": {},
   "outputs": [
    {
     "data": {
      "text/plain": [
       "[3.4, 'a string', True]"
      ]
     },
     "execution_count": 37,
     "metadata": {},
     "output_type": "execute_result"
    }
   ],
   "source": [
    "#return all the elements of the list, excluding the first\n",
    "list_of_random_things[1:]"
   ]
  },
  {
   "cell_type": "markdown",
   "metadata": {},
   "source": [
    "Lists are mutable so we can change individual elements, whereas strings are immutable."
   ]
  },
  {
   "cell_type": "code",
   "execution_count": 39,
   "metadata": {},
   "outputs": [
    {
     "name": "stdout",
     "output_type": "stream",
     "text": [
      "['one', 2, 3, 4, 5]\n"
     ]
    }
   ],
   "source": [
    "my_lst = [1, 2, 3, 4, 5]\n",
    "#change the first element\n",
    "my_lst[0] = 'one' \n",
    "print(my_lst)\n"
   ]
  },
  {
   "cell_type": "code",
   "execution_count": 40,
   "metadata": {},
   "outputs": [
    {
     "ename": "TypeError",
     "evalue": "'str' object does not support item assignment",
     "output_type": "error",
     "traceback": [
      "\u001b[0;31m---------------------------------------------------------------------------\u001b[0m",
      "\u001b[0;31mTypeError\u001b[0m                                 Traceback (most recent call last)",
      "\u001b[0;32m<ipython-input-40-c6dbaf0e8fca>\u001b[0m in \u001b[0;36m<module>\u001b[0;34m\u001b[0m\n\u001b[1;32m      1\u001b[0m \u001b[0;31m# the following code will not work\u001b[0m\u001b[0;34m\u001b[0m\u001b[0;34m\u001b[0m\u001b[0;34m\u001b[0m\u001b[0m\n\u001b[1;32m      2\u001b[0m \u001b[0mgreeting\u001b[0m \u001b[0;34m=\u001b[0m \u001b[0;34m\"Hello there\"\u001b[0m\u001b[0;34m\u001b[0m\u001b[0;34m\u001b[0m\u001b[0m\n\u001b[0;32m----> 3\u001b[0;31m \u001b[0mgreeting\u001b[0m\u001b[0;34m[\u001b[0m\u001b[0;36m0\u001b[0m\u001b[0;34m]\u001b[0m \u001b[0;34m=\u001b[0m \u001b[0;34m'M'\u001b[0m\u001b[0;34m\u001b[0m\u001b[0;34m\u001b[0m\u001b[0m\n\u001b[0m",
      "\u001b[0;31mTypeError\u001b[0m: 'str' object does not support item assignment"
     ]
    }
   ],
   "source": [
    "# the following code will not work\n",
    "greeting = \"Hello there\"\n",
    "greeting[0] = 'M'"
   ]
  },
  {
   "cell_type": "markdown",
   "metadata": {},
   "source": [
    "#### Example\n",
    "Use list indexing to determine how many days are in a particular month based on the integer variable month, and store that value in the integer variable num_days. For example, if month is 8, num_days should be set to 31, since the eighth month, August, has 31 days."
   ]
  },
  {
   "cell_type": "code",
   "execution_count": 42,
   "metadata": {},
   "outputs": [
    {
     "name": "stdout",
     "output_type": "stream",
     "text": [
      "31\n"
     ]
    }
   ],
   "source": [
    "month = 8\n",
    "days_in_month = [31,28,31,30,31,30,31,31,30,31,30,31]\n",
    "\n",
    "# use list indexing to determine the number of days in month\n",
    "num_days=days_in_month[month-1]\n",
    "print(num_days)"
   ]
  },
  {
   "cell_type": "markdown",
   "metadata": {},
   "source": [
    "Select the three most recent dates from this list using list slicing notation. Hint: negative indexes work in slices!"
   ]
  },
  {
   "cell_type": "code",
   "execution_count": 45,
   "metadata": {},
   "outputs": [
    {
     "name": "stdout",
     "output_type": "stream",
     "text": [
      "['November 13, 2012', 'March 20, 2015', 'March 9, 2016']\n"
     ]
    }
   ],
   "source": [
    "eclipse_dates = ['June 21, 2001', 'December 4, 2002', 'November 23, 2003',\n",
    "                 'March 29, 2006', 'August 1, 2008', 'July 22, 2009',\n",
    "                 'July 11, 2010', 'November 13, 2012', 'March 20, 2015',\n",
    "                 'March 9, 2016']\n",
    "                \n",
    "                 \n",
    "# TODO: Modify this line so it prints the last three elements of the list\n",
    "print(eclipse_dates[-3:])"
   ]
  },
  {
   "cell_type": "markdown",
   "metadata": {},
   "source": [
    "#### `in` and `not in`"
   ]
  },
  {
   "cell_type": "code",
   "execution_count": 47,
   "metadata": {},
   "outputs": [
    {
     "name": "stdout",
     "output_type": "stream",
     "text": [
      "False\n",
      "True\n",
      "True\n"
     ]
    }
   ],
   "source": [
    "# tickers\n",
    "VINIX = ['C', 'MA', 'BA', 'PG', 'CSCO', 'VZ', 'PFE', 'HD', 'INTC', 'T', 'V', 'UNH', 'WFC', 'CVX', 'BAC', 'JNJ', 'GOOGL', 'GOOG', 'BRK.B', 'XOM', 'JPM', 'FB', 'AMZN', 'MSFT', 'AAPL']\n",
    "print('GE' in VINIX)\n",
    "print('GOOGL' in VINIX)\n",
    "print('ABC' not in VINIX)"
   ]
  },
  {
   "cell_type": "markdown",
   "metadata": {},
   "source": [
    "#### Useful list functions\n",
    "- len()\n",
    "- min()\n",
    "- max()\n",
    "- sorted(): returns a copy of a list in order from smallest to largest, leaving the list unchanged.\n",
    "- join()\n",
    "- append()"
   ]
  },
  {
   "cell_type": "code",
   "execution_count": 49,
   "metadata": {},
   "outputs": [
    {
     "name": "stdout",
     "output_type": "stream",
     "text": [
      "fore\n",
      "aft\n",
      "starboard\n",
      "port\n",
      "García-O'Kelly\n"
     ]
    }
   ],
   "source": [
    "#join\n",
    "new_str = \"\\n\".join([\"fore\", \"aft\", \"starboard\", \"port\"])\n",
    "print(new_str)\n",
    "name = \"-\".join([\"García\", \"O'Kelly\"])\n",
    "print(name)"
   ]
  },
  {
   "cell_type": "code",
   "execution_count": 52,
   "metadata": {},
   "outputs": [
    {
     "name": "stdout",
     "output_type": "stream",
     "text": [
      "['a', 'b', 'c', 'd', 'z']\n",
      "['Albert', 'Ben', 'Carol', 'Donna', 'Eugenia']\n"
     ]
    }
   ],
   "source": [
    "#append - adds an element to the end of the list\n",
    "letters = ['a', 'b', 'c', 'd']\n",
    "letters.append('z')\n",
    "print(letters)\n",
    "#another example\n",
    "names = [\"Carol\", \"Albert\", \"Ben\", \"Donna\"]\n",
    "names.append(\"Eugenia\")\n",
    "print(sorted(names))"
   ]
  },
  {
   "cell_type": "code",
   "execution_count": 51,
   "metadata": {},
   "outputs": [
    {
     "name": "stdout",
     "output_type": "stream",
     "text": [
      "Albert & Ben & Carol & Donna\n"
     ]
    }
   ],
   "source": [
    "names = [\"Carol\", \"Albert\", \"Ben\", \"Donna\"]\n",
    "print(\" & \".join(sorted(names)))"
   ]
  },
  {
   "cell_type": "markdown",
   "metadata": {},
   "source": [
    "### Tuples\n",
    "Tuples are used to store related pieces of information, they are immutable ordered sequence of elements. Eg. storing latitudes and longitudes together. We can assign a tuple in one go.\n",
    "Parentheses are optional when specifying a tuple.\n"
   ]
  },
  {
   "cell_type": "code",
   "execution_count": 53,
   "metadata": {},
   "outputs": [
    {
     "name": "stdout",
     "output_type": "stream",
     "text": [
      "Latitude: 13.4125\n",
      "Longitude: 103.866667\n"
     ]
    }
   ],
   "source": [
    "location = (13.4125, 103.866667)\n",
    "print(\"Latitude:\", location[0])\n",
    "print(\"Longitude:\", location[1])"
   ]
  },
  {
   "cell_type": "code",
   "execution_count": 55,
   "metadata": {},
   "outputs": [
    {
     "name": "stdout",
     "output_type": "stream",
     "text": [
      "The dimensions are 52 x 40 x 100\n"
     ]
    }
   ],
   "source": [
    "dimensions = 52, 40, 100\n",
    "# tuples unpacking\n",
    "length, width, height = dimensions \n",
    "print(\"The dimensions are {} x {} x {}\".format(length, width, height))"
   ]
  },
  {
   "cell_type": "code",
   "execution_count": 56,
   "metadata": {},
   "outputs": [
    {
     "name": "stdout",
     "output_type": "stream",
     "text": [
      "The dimensions are 52 x 40 x 100\n"
     ]
    }
   ],
   "source": [
    "# alternate way for above\n",
    "length, width, height = 52, 40, 100\n",
    "print(\"The dimensions are {} x {} x {}\".format(length, width, height))"
   ]
  },
  {
   "cell_type": "markdown",
   "metadata": {},
   "source": [
    "### Sets\n",
    "Sets are a datatype for mutable, unordered collectionof unique elements. Sets have add() to add elements. They allow the mathematical set operations."
   ]
  },
  {
   "cell_type": "code",
   "execution_count": 58,
   "metadata": {},
   "outputs": [
    {
     "name": "stdout",
     "output_type": "stream",
     "text": [
      "{1, 2, 3, 6}\n",
      "False\n",
      "{'orange', 'apple', 'banana', 'grapefruit', 'watermelon'}\n",
      "orange\n",
      "{'apple', 'banana', 'grapefruit', 'watermelon'}\n"
     ]
    }
   ],
   "source": [
    "numbers = [1, 2, 6, 3, 1, 1, 6]\n",
    "#convert a list to set - it removes the duplicates\n",
    "unique_nums = set(numbers)\n",
    "print(unique_nums)\n",
    "\n",
    "fruit = {\"apple\", \"banana\", \"orange\", \"grapefruit\"}  # define a set\n",
    "\n",
    "print(\"watermelon\" in fruit)  # check for element\n",
    "\n",
    "fruit.add(\"watermelon\")  # add an element\n",
    "print(fruit)\n",
    "\n",
    "print(fruit.pop())  # remove a random element\n",
    "print(fruit)"
   ]
  },
  {
   "cell_type": "markdown",
   "metadata": {},
   "source": [
    "### Dictionaries\n",
    "Dictionaries are a datatype for mutable objects that store unique keys to values. Rather than storing single objects like lists and sets do, dictionaries store key-value pairs. It is not neccessary to have all keys to have same types. We can look up values or insert new values in the dictionary using square brackets that enclose the key.\n",
    "We can check whether a value is in a dictionary the same way we check whether a value is in a list or set with the in keyword. Dicts have a related method that's also useful, get. get looks up values in a dictionary, but unlike square brackets, get returns None (or a default value of your choice) if the key isn't found."
   ]
  },
  {
   "cell_type": "code",
   "execution_count": 59,
   "metadata": {},
   "outputs": [
    {
     "name": "stdout",
     "output_type": "stream",
     "text": [
      "2\n"
     ]
    }
   ],
   "source": [
    "elements = {\"hydrogen\": 1, \"helium\": 2, \"carbon\": 6}\n",
    "print(elements[\"helium\"])  # print the value mapped to \"helium\"\n",
    "elements[\"lithium\"] = 3  # insert \"lithium\" with a value of 3 into the dictionary"
   ]
  },
  {
   "cell_type": "markdown",
   "metadata": {},
   "source": [
    "get() is a better way to check if an element exists in the dictionary."
   ]
  },
  {
   "cell_type": "code",
   "execution_count": 61,
   "metadata": {},
   "outputs": [
    {
     "name": "stdout",
     "output_type": "stream",
     "text": [
      "True\n",
      "None\n"
     ]
    }
   ],
   "source": [
    "#in vs get\n",
    "print(\"carbon\" in elements)\n",
    "print(elements.get(\"dilithium\"))# this element does not exist in the list, so get returns None"
   ]
  },
  {
   "cell_type": "code",
   "execution_count": 65,
   "metadata": {},
   "outputs": [
    {
     "name": "stdout",
     "output_type": "stream",
     "text": [
      "None\n"
     ]
    },
    {
     "data": {
      "text/plain": [
       "\"There's no such element!\""
      ]
     },
     "execution_count": 65,
     "metadata": {},
     "output_type": "execute_result"
    }
   ],
   "source": [
    "print(elements.get('dilithium'))\n",
    "#elements['dilithium']# Will throw error\n",
    "elements.get('kryptonite', 'There\\'s no such element!')\n"
   ]
  },
  {
   "cell_type": "markdown",
   "metadata": {},
   "source": [
    "#### Identity operators\n",
    "`is` and `is not` : checks if both sides have the same identity or not"
   ]
  },
  {
   "cell_type": "code",
   "execution_count": 62,
   "metadata": {},
   "outputs": [
    {
     "name": "stdout",
     "output_type": "stream",
     "text": [
      "True\n",
      "False\n"
     ]
    }
   ],
   "source": [
    "n = elements.get(\"dilithium\")\n",
    "print(n is None)\n",
    "print(n is not None)"
   ]
  },
  {
   "cell_type": "markdown",
   "metadata": {},
   "source": [
    "But a and c (and b for that matter, again) point to two different objects, i.e., they aren't identical objects. That is the difference between checking for equality vs. identity"
   ]
  },
  {
   "cell_type": "code",
   "execution_count": 66,
   "metadata": {},
   "outputs": [
    {
     "name": "stdout",
     "output_type": "stream",
     "text": [
      "True\n",
      "True\n",
      "True\n",
      "False\n"
     ]
    }
   ],
   "source": [
    "a = [1, 2, 3]\n",
    "b = a\n",
    "c = [1, 2, 3]\n",
    "\n",
    "print(a == b) # List a and list b are equal and identical\n",
    "print(a is b) # List a and list b are equal and identical\n",
    "print(a == c) # List c is equal to a (and b for that matter) since they have the same contents\n",
    "print(a is c) # But a and c (and b for that matter, again) point to two different objects, i.e., they aren't identical objects"
   ]
  },
  {
   "cell_type": "code",
   "execution_count": null,
   "metadata": {},
   "outputs": [],
   "source": []
  }
 ],
 "metadata": {
  "kernelspec": {
   "display_name": "Python 3",
   "language": "python",
   "name": "python3"
  },
  "language_info": {
   "codemirror_mode": {
    "name": "ipython",
    "version": 3
   },
   "file_extension": ".py",
   "mimetype": "text/x-python",
   "name": "python",
   "nbconvert_exporter": "python",
   "pygments_lexer": "ipython3",
   "version": "3.7.7"
  }
 },
 "nbformat": 4,
 "nbformat_minor": 4
}
