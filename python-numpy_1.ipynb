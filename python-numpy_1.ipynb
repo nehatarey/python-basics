{
 "cells": [
  {
   "cell_type": "markdown",
   "metadata": {},
   "source": [
    "# Python NumPy I\n",
    "**NumPy** or Numerical Python is a fundamental package for scientific computing in Python. It provides Python with extensive mathemetical libraries thus making it capable of performing numerical computations effectively and efficiently. Python can handle lists on its own, but **NumPy arrays** are faster thus providing an advantage when dealing with large arrays. Because NumPy arrays hold single type of data, thus the calculationg become much faster. NumPy also provides multi-dimensional data structures such as vectors and matrices that are highly used in Neural Networks. NumPy is very much optimized to handle matrix operations and allows us to do Linear Algebra very fast and efficiently, thus it is very much suitable for solving machine learning problems. \n",
    "NumPy also provides large number of built-in mathematical functions that are optimized and perform fast maathematical calculations. Infact, **Pandas** are also built using on top of **NumPy**."
   ]
  },
  {
   "cell_type": "code",
   "execution_count": 2,
   "metadata": {},
   "outputs": [
    {
     "name": "stdout",
     "output_type": "stream",
     "text": [
      "# packages in environment at /Users/nehatarey/opt/anaconda3:\r\n",
      "#\r\n",
      "# Name                    Version                   Build  Channel\r\n",
      "numpy                     1.18.1           py37h7241aed_0  \r\n",
      "numpy-base                1.18.1           py37h6575580_1  \r\n",
      "numpydoc                  0.9.2                      py_0  \r\n"
     ]
    }
   ],
   "source": [
    "#check the version of NumPy installed in your local\n",
    "!conda list numpy"
   ]
  },
  {
   "cell_type": "markdown",
   "metadata": {},
   "source": [
    "#### Compare the difference between calculation times in Plain Python and NumPy"
   ]
  },
  {
   "cell_type": "code",
   "execution_count": 3,
   "metadata": {},
   "outputs": [],
   "source": [
    "import time  #for time diff calc\n",
    "import numpy as np"
   ]
  },
  {
   "cell_type": "code",
   "execution_count": 4,
   "metadata": {},
   "outputs": [],
   "source": [
    "#generate 10 million random numbers\n",
    "x = np.random.random(100000000)"
   ]
  },
  {
   "cell_type": "code",
   "execution_count": 5,
   "metadata": {},
   "outputs": [
    {
     "name": "stdout",
     "output_type": "stream",
     "text": [
      "18.431036949157715\n"
     ]
    }
   ],
   "source": [
    "#use plain python to calculate mean\n",
    "start = time.time() #capture start time\n",
    "sum(x)/len(x)\n",
    "print(time.time()-start) #print the time diff"
   ]
  },
  {
   "cell_type": "code",
   "execution_count": 6,
   "metadata": {},
   "outputs": [
    {
     "name": "stdout",
     "output_type": "stream",
     "text": [
      "0.05961298942565918\n"
     ]
    }
   ],
   "source": [
    "# use Numpy for mean calculation\n",
    "start = time.time() # capture start time\n",
    "np.mean(x)\n",
    "print(time.time()-start) # print time diff"
   ]
  },
  {
   "cell_type": "markdown",
   "metadata": {},
   "source": [
    "The core of NumPy is the ndarray or n-dimensional array. The *ndarray* is a multi-dimensional array of all the same type of elements. It can hold either all strings or all numbers. There are multiple ways to create NumPy arrays. ndarrays can be created in two ways in NumPy :\n",
    "- Using regular Python lists\n",
    "- Using built-in NumPy functions"
   ]
  },
  {
   "cell_type": "code",
   "execution_count": 7,
   "metadata": {},
   "outputs": [
    {
     "name": "stdout",
     "output_type": "stream",
     "text": [
      "[1 2 3 4 5 6]\n"
     ]
    }
   ],
   "source": [
    "# 1st way \n",
    "import numpy as np\n",
    "\n",
    "x = np.array([1,2,3,4,5,6])\n",
    "print(x)"
   ]
  },
  {
   "cell_type": "code",
   "execution_count": 8,
   "metadata": {},
   "outputs": [
    {
     "data": {
      "text/plain": [
       "dtype('int64')"
      ]
     },
     "execution_count": 8,
     "metadata": {},
     "output_type": "execute_result"
    }
   ],
   "source": [
    "x.dtype"
   ]
  },
  {
   "cell_type": "code",
   "execution_count": 9,
   "metadata": {},
   "outputs": [
    {
     "data": {
      "text/plain": [
       "(6,)"
      ]
     },
     "execution_count": 9,
     "metadata": {},
     "output_type": "execute_result"
    }
   ],
   "source": [
    "x.shape # returns rows, col"
   ]
  },
  {
   "cell_type": "code",
   "execution_count": 10,
   "metadata": {},
   "outputs": [
    {
     "name": "stdout",
     "output_type": "stream",
     "text": [
      "[[ 1  2  3]\n",
      " [ 4  5  6]\n",
      " [23 45 67]\n",
      " [ 4  7  8]]\n"
     ]
    }
   ],
   "source": [
    "# 2-d array\n",
    "y= np.array([[1,2,3],[4,5,6],[23,45,67],[4,7,8]])\n",
    "print(y)"
   ]
  },
  {
   "cell_type": "code",
   "execution_count": 11,
   "metadata": {},
   "outputs": [
    {
     "data": {
      "text/plain": [
       "dtype('int64')"
      ]
     },
     "execution_count": 11,
     "metadata": {},
     "output_type": "execute_result"
    }
   ],
   "source": [
    "y.dtype"
   ]
  },
  {
   "cell_type": "code",
   "execution_count": 12,
   "metadata": {},
   "outputs": [
    {
     "data": {
      "text/plain": [
       "(4, 3)"
      ]
     },
     "execution_count": 12,
     "metadata": {},
     "output_type": "execute_result"
    }
   ],
   "source": [
    "y.shape"
   ]
  },
  {
   "cell_type": "code",
   "execution_count": 13,
   "metadata": {},
   "outputs": [
    {
     "data": {
      "text/plain": [
       "12"
      ]
     },
     "execution_count": 13,
     "metadata": {},
     "output_type": "execute_result"
    }
   ],
   "source": [
    "y.size"
   ]
  },
  {
   "cell_type": "code",
   "execution_count": 14,
   "metadata": {},
   "outputs": [
    {
     "name": "stdout",
     "output_type": "stream",
     "text": [
      "['Hello' 'World']\n",
      "shape : (2,)\n",
      "type : <class 'numpy.ndarray'>\n",
      "dtype : <U5\n"
     ]
    }
   ],
   "source": [
    "# rank 1 array of strings\n",
    "x = np.array(['Hello', 'World'])\n",
    "print(x)\n",
    "print('shape :', x.shape)\n",
    "print('type :', type(x))\n",
    "print('dtype :',x.dtype)"
   ]
  },
  {
   "cell_type": "markdown",
   "metadata": {},
   "source": [
    "#### Upcasting\n",
    "NumPy arrays that have mixed data types, NumPy upcasts the elements to ensure that all the data types in an array are of the same type. For eg, if an array has mixed integers and floats, NumPy will upgrade all the ints to floats. It does so to ensure precision in the mathematical calculations. We can manually assign a certain dtype to a NumPy array by specifying it while creating the array."
   ]
  },
  {
   "cell_type": "code",
   "execution_count": 15,
   "metadata": {},
   "outputs": [
    {
     "name": "stdout",
     "output_type": "stream",
     "text": [
      "['Hello' 'World' '1']\n",
      "shape : (3,)\n",
      "type : <class 'numpy.ndarray'>\n",
      "dtype : <U5\n"
     ]
    }
   ],
   "source": [
    "# mixed strings and numbers\n",
    "x = np.array(['Hello','World',1])\n",
    "print(x)\n",
    "print('shape :', x.shape)\n",
    "print('type :', type(x))\n",
    "print('dtype :',x.dtype) # all the data tyoes are converted to unicode"
   ]
  },
  {
   "cell_type": "code",
   "execution_count": 16,
   "metadata": {},
   "outputs": [
    {
     "name": "stdout",
     "output_type": "stream",
     "text": [
      "[1.  2.  3.5]\n",
      "shape : (3,)\n",
      "type : <class 'numpy.ndarray'>\n",
      "dtype : float64\n"
     ]
    }
   ],
   "source": [
    "#mixed ints and floats\n",
    "x = np.array([1, 2, 3.5])\n",
    "print(x)\n",
    "print('shape :', x.shape)\n",
    "print('type :', type(x))\n",
    "print('dtype :',x.dtype) # everything is float now"
   ]
  },
  {
   "cell_type": "code",
   "execution_count": 17,
   "metadata": {},
   "outputs": [
    {
     "name": "stdout",
     "output_type": "stream",
     "text": [
      "[1 3 5]\n",
      "shape : (3,)\n",
      "type : <class 'numpy.ndarray'>\n",
      "dtype : int64\n"
     ]
    }
   ],
   "source": [
    "# Manually assign a dtype to forcefully ensure that type of precision\n",
    "x = np.array([1.2, 3.4, 5], dtype = np.int64)\n",
    "print(x)\n",
    "print('shape :', x.shape)\n",
    "print('type :', type(x))\n",
    "print('dtype :',x.dtype)"
   ]
  },
  {
   "cell_type": "markdown",
   "metadata": {},
   "source": [
    "#### Save the array to file and load from file\n"
   ]
  },
  {
   "cell_type": "code",
   "execution_count": 18,
   "metadata": {},
   "outputs": [],
   "source": [
    "x= np.array([1,2,3,4,5])\n",
    "#following will save the array x in a file names my_array in the current working directory\n",
    "np.save(\"my_array\",x) # file is saved with extension .npy"
   ]
  },
  {
   "cell_type": "code",
   "execution_count": 19,
   "metadata": {},
   "outputs": [
    {
     "name": "stdout",
     "output_type": "stream",
     "text": [
      "[1 2 3 4 5]\n"
     ]
    }
   ],
   "source": [
    "#load an array from the saved file\n",
    "y = np.load(\"my_array.npy\")\n",
    "print(y)"
   ]
  },
  {
   "cell_type": "markdown",
   "metadata": {},
   "source": [
    "#### Creating ndarrays using built-in functions"
   ]
  },
  {
   "cell_type": "code",
   "execution_count": 20,
   "metadata": {},
   "outputs": [
    {
     "name": "stdout",
     "output_type": "stream",
     "text": [
      "X=\n",
      " [[0. 0. 0. 0.]\n",
      " [0. 0. 0. 0.]\n",
      " [0. 0. 0. 0.]]\n",
      "X has dimensions: (3, 4)\n",
      "X is an object of type: <class 'numpy.ndarray'>\n",
      "The elements in X are of type: float64\n"
     ]
    }
   ],
   "source": [
    "# using np.zeros\n",
    "X = np.zeros((3,4))\n",
    "print('X=\\n',X)\n",
    "print('X has dimensions:', X.shape)\n",
    "print('X is an object of type:', type(X))\n",
    "print('The elements in X are of type:', X.dtype)"
   ]
  },
  {
   "cell_type": "code",
   "execution_count": 21,
   "metadata": {},
   "outputs": [
    {
     "name": "stdout",
     "output_type": "stream",
     "text": [
      "X=\n",
      " [[1. 1. 1. 1.]\n",
      " [1. 1. 1. 1.]\n",
      " [1. 1. 1. 1.]]\n",
      "X has dimensions: (3, 4)\n",
      "X is an object of type: <class 'numpy.ndarray'>\n",
      "The elements in X are of type: float64\n"
     ]
    }
   ],
   "source": [
    "# using np.ones\n",
    "X = np.ones((3,4))\n",
    "print('X=\\n',X)\n",
    "print('X has dimensions:', X.shape)\n",
    "print('X is an object of type:', type(X))\n",
    "print('The elements in X are of type:', X.dtype)"
   ]
  },
  {
   "cell_type": "code",
   "execution_count": 22,
   "metadata": {},
   "outputs": [
    {
     "name": "stdout",
     "output_type": "stream",
     "text": [
      "X=\n",
      " [[8 8 8 8 8]\n",
      " [8 8 8 8 8]]\n",
      "X has dimensions: (2, 5)\n",
      "X is an object of type: <class 'numpy.ndarray'>\n",
      "The elements in X are of type: int64\n"
     ]
    }
   ],
   "source": [
    "#using np.full to create an array full pf a any number we want shape, number\n",
    "X = np.full((2,5),8)\n",
    "print('X=\\n',X)\n",
    "print('X has dimensions:', X.shape)\n",
    "print('X is an object of type:', type(X))\n",
    "print('The elements in X are of type:', X.dtype)"
   ]
  },
  {
   "cell_type": "markdown",
   "metadata": {},
   "source": [
    "#### Identity matrix, Diagonal matrix, arange,  linspace and random functions\n",
    "Identity matrix used in linear algebra has is a square matrix with 1's along its main diagonal and 0s elsewhere."
   ]
  },
  {
   "cell_type": "code",
   "execution_count": 23,
   "metadata": {},
   "outputs": [
    {
     "name": "stdout",
     "output_type": "stream",
     "text": [
      "X=\n",
      " [[1. 0. 0. 0. 0.]\n",
      " [0. 1. 0. 0. 0.]\n",
      " [0. 0. 1. 0. 0.]\n",
      " [0. 0. 0. 1. 0.]\n",
      " [0. 0. 0. 0. 1.]]\n",
      "X has dimensions: (5, 5)\n",
      "X is an object of type: <class 'numpy.ndarray'>\n",
      "The elements in X are of type: float64\n"
     ]
    }
   ],
   "source": [
    "#identity matrix function \n",
    "X= np.eye(5) # 5x5 matrix\n",
    "print('X=\\n',X)\n",
    "print('X has dimensions:', X.shape)\n",
    "print('X is an object of type:', type(X))\n",
    "print('The elements in X are of type:', X.dtype)"
   ]
  },
  {
   "cell_type": "code",
   "execution_count": 24,
   "metadata": {},
   "outputs": [
    {
     "name": "stdout",
     "output_type": "stream",
     "text": [
      "[[10  0  0  0]\n",
      " [ 0 20  0  0]\n",
      " [ 0  0 30  0]\n",
      " [ 0  0  0 40]]\n"
     ]
    }
   ],
   "source": [
    "# Diagonal matrix, specify only the diag values, rest all 0s\n",
    "X = np.diag([10,20,30,40])\n",
    "print(X)"
   ]
  },
  {
   "cell_type": "markdown",
   "metadata": {},
   "source": [
    "`np.arange` generates 1-d array within specific numerical range, it creates evenly spaced values within a given interval. It takes 3 arguments : start, stop and step values. This function only works well with integers."
   ]
  },
  {
   "cell_type": "code",
   "execution_count": 26,
   "metadata": {},
   "outputs": [
    {
     "name": "stdout",
     "output_type": "stream",
     "text": [
      "[0 1 2 3 4 5 6 7 8 9]\n"
     ]
    }
   ],
   "source": [
    "#one argument - takes as stop(exclusive)\n",
    "X = np.arange(10)\n",
    "print(X)"
   ]
  },
  {
   "cell_type": "code",
   "execution_count": 27,
   "metadata": {},
   "outputs": [
    {
     "name": "stdout",
     "output_type": "stream",
     "text": [
      "[ 3  4  5  6  7  8  9 10 11]\n"
     ]
    }
   ],
   "source": [
    "#two arguments - start(inclusive), stop(exclusive)\n",
    "X = np.arange(3,12)\n",
    "print(X)"
   ]
  },
  {
   "cell_type": "code",
   "execution_count": 29,
   "metadata": {},
   "outputs": [
    {
     "name": "stdout",
     "output_type": "stream",
     "text": [
      "[ 3  6  9 12]\n"
     ]
    }
   ],
   "source": [
    "#3 arguments - start, stop and step\n",
    "X = np.arange(3,15,3)\n",
    "print(X)"
   ]
  },
  {
   "cell_type": "markdown",
   "metadata": {},
   "source": [
    "`np.linspace` works well in case of float ranges. It takes 3 args : start, stop and n; where start and stop are inclusive and n is the number of values within the interval. It returns n evenly spaced numbers between start and stop. The method always requires start and stop, by default n= 50."
   ]
  },
  {
   "cell_type": "code",
   "execution_count": 30,
   "metadata": {},
   "outputs": [
    {
     "data": {
      "text/plain": [
       "array([ 0.        ,  2.77777778,  5.55555556,  8.33333333, 11.11111111,\n",
       "       13.88888889, 16.66666667, 19.44444444, 22.22222222, 25.        ])"
      ]
     },
     "execution_count": 30,
     "metadata": {},
     "output_type": "execute_result"
    }
   ],
   "source": [
    "x = np.linspace(0,25,10)\n",
    "x"
   ]
  },
  {
   "cell_type": "code",
   "execution_count": 31,
   "metadata": {},
   "outputs": [
    {
     "data": {
      "text/plain": [
       "array([ 0. ,  2.5,  5. ,  7.5, 10. , 12.5, 15. , 17.5, 20. , 22.5])"
      ]
     },
     "execution_count": 31,
     "metadata": {},
     "output_type": "execute_result"
    }
   ],
   "source": [
    "#non inclusive end point\n",
    "x = np.linspace(0,25,10, endpoint=False)\n",
    "x"
   ]
  },
  {
   "cell_type": "markdown",
   "metadata": {},
   "source": [
    "#### Reshape rank 1 array to different using `np.reshape`"
   ]
  },
  {
   "cell_type": "code",
   "execution_count": 36,
   "metadata": {},
   "outputs": [
    {
     "name": "stdout",
     "output_type": "stream",
     "text": [
      "\n",
      "Original x =  [ 0  1  2  3  4  5  6  7  8  9 10 11 12 13 14 15 16 17 18 19]\n",
      "\n",
      "\n",
      "Reshaped x = \n",
      " [[ 0  1  2  3  4]\n",
      " [ 5  6  7  8  9]\n",
      " [10 11 12 13 14]\n",
      " [15 16 17 18 19]]\n",
      "\n",
      "x has dimensions: (4, 5)\n"
     ]
    }
   ],
   "source": [
    "# We create a rank 1 ndarray with sequential integers from 0 to 19\n",
    "x = np.arange(20)\n",
    "\n",
    "# We print x\n",
    "print()\n",
    "print('Original x = ', x)\n",
    "print()\n",
    "\n",
    "# We reshape x into a 4 x 5 ndarray \n",
    "x = np.reshape(x, (4,5))\n",
    "\n",
    "# We print the reshaped x\n",
    "print()\n",
    "print('Reshaped x = \\n', x)\n",
    "print()\n",
    "print('x has dimensions:', Y.shape)\n",
    "\n"
   ]
  },
  {
   "cell_type": "code",
   "execution_count": 35,
   "metadata": {},
   "outputs": [
    {
     "name": "stdout",
     "output_type": "stream",
     "text": [
      "\n",
      "Y = \n",
      " [[ 0  1  2  3  4]\n",
      " [ 5  6  7  8  9]\n",
      " [10 11 12 13 14]\n",
      " [15 16 17 18 19]]\n",
      "\n",
      "Y has dimensions: (4, 5)\n"
     ]
    }
   ],
   "source": [
    "## alternative way of using reshape\n",
    "# We create a a rank 1 ndarray with sequential integers from 0 to 19 and\n",
    "# reshape it to a 4 x 5 array \n",
    "Y = np.arange(20).reshape(4, 5)\n",
    "\n",
    "# We print Y\n",
    "print()\n",
    "print('Y = \\n', Y)\n",
    "print()\n",
    "print('Y has dimensions:', Y.shape)\n"
   ]
  },
  {
   "cell_type": "markdown",
   "metadata": {},
   "source": [
    "NumPy offers a variety of random functions to help us create random ndarrays of any shape. Here we are creating  an ndarray of the given shape with random floats in the half-open interval `[0.0, 1.0)` using the `np.random.random(shape)` function."
   ]
  },
  {
   "cell_type": "code",
   "execution_count": 41,
   "metadata": {},
   "outputs": [
    {
     "name": "stdout",
     "output_type": "stream",
     "text": [
      "[[0.99803377 0.31320384 0.12598107]\n",
      " [0.49870584 0.6364293  0.98890406]\n",
      " [0.21389403 0.34769294 0.74097673]]\n",
      "X has dimensions: (3, 3)\n",
      "The elements in X are of type: float64\n"
     ]
    }
   ],
   "source": [
    "# create a 3 x 3 ndarray with random floats in the half-open interval [0.0, 1.0).\n",
    "X = np.random.random((3,3))\n",
    "print(X)\n",
    "print('X has dimensions:', X.shape)\n",
    "print('The elements in X are of type:', X.dtype)"
   ]
  },
  {
   "cell_type": "code",
   "execution_count": 44,
   "metadata": {},
   "outputs": [
    {
     "name": "stdout",
     "output_type": "stream",
     "text": [
      "[[10  9  4 11]\n",
      " [ 9 13  9  6]]\n",
      "X has dimensions: (2, 4)\n",
      "The elements in X are of type: int64\n"
     ]
    }
   ],
   "source": [
    "#randint() randomintegers\n",
    "X = np.random.randint(4,15,size=(2,4))\n",
    "print(X)\n",
    "print('X has dimensions:', X.shape)\n",
    "print('The elements in X are of type:', X.dtype)"
   ]
  },
  {
   "cell_type": "code",
   "execution_count": 45,
   "metadata": {},
   "outputs": [
    {
     "name": "stdout",
     "output_type": "stream",
     "text": [
      "\n",
      "X = \n",
      " [[-0.10918364  0.01484396 -0.11343745 ... -0.01014396 -0.05678217\n",
      "  -0.03517811]\n",
      " [ 0.00809375 -0.08168609 -0.06810311 ...  0.05574756  0.14837763\n",
      "  -0.01581064]\n",
      " [ 0.06013043 -0.12903591  0.00874855 ...  0.02863736 -0.10724165\n",
      "   0.02114796]\n",
      " ...\n",
      " [-0.0900399   0.07180396  0.03146538 ...  0.00392638  0.02364542\n",
      "   0.06235731]\n",
      " [-0.04781511 -0.07146882  0.02606181 ...  0.09609536  0.07600072\n",
      "   0.03488823]\n",
      " [ 0.09402733 -0.02218421  0.06789235 ... -0.04060687  0.11117133\n",
      "   0.02865109]]\n",
      "\n",
      "X has dimensions: (1000, 1000)\n",
      "X is an object of type: <class 'numpy.ndarray'>\n",
      "The elements in X are of type: float64\n",
      "The elements in X have a mean of: 4.7040447871947106e-05\n",
      "The maximum value in X is: 0.5133425607884119\n",
      "The minimum value in X is: -0.47415633656431333\n",
      "X has 499643 negative numbers\n",
      "X has 500357 positive numbers\n"
     ]
    }
   ],
   "source": [
    "#random normal numbers\n",
    "# We create a 1000 x 1000 ndarray of random floats drawn from normal (Gaussian) distribution\n",
    "# with a mean of zero and a standard deviation of 0.1.\n",
    "X = np.random.normal(0,0.1, size= (1000,1000))\n",
    "# We print X\n",
    "print()\n",
    "print('X = \\n', X)\n",
    "print()\n",
    "\n",
    "# We print information about X\n",
    "print('X has dimensions:', X.shape)\n",
    "print('X is an object of type:', type(X))\n",
    "print('The elements in X are of type:', X.dtype)\n",
    "print('The elements in X have a mean of:', X.mean())\n",
    "print('The maximum value in X is:', X.max())\n",
    "print('The minimum value in X is:', X.min())\n",
    "print('X has', (X < 0).sum(), 'negative numbers')\n",
    "print('X has', (X > 0).sum(), 'positive numbers')"
   ]
  },
  {
   "cell_type": "code",
   "execution_count": 50,
   "metadata": {},
   "outputs": [
    {
     "data": {
      "image/png": "[encoded data removed]",
      "text/plain": [
       "<Figure size 432x288 with 1 Axes>"
      ]
     },
     "metadata": {
      "needs_background": "light"
     },
     "output_type": "display_data"
    }
   ],
   "source": [
    "import matplotlib.pyplot as plt\n",
    "%matplotlib inline\n",
    "plt.hist(X);"
   ]
  },
  {
   "cell_type": "markdown",
   "metadata": {},
   "source": [
    "### Accessing, deleting and inserting elements into ndarray"
   ]
  },
  {
   "cell_type": "code",
   "execution_count": 54,
   "metadata": {},
   "outputs": [
    {
     "name": "stdout",
     "output_type": "stream",
     "text": [
      "\n",
      "x =  [1 2 3 4 5]\n",
      "\n",
      "This is First Element in x: 1\n",
      "This is Second Element in x: 2\n",
      "This is Fifth (Last) Element in x: 5\n",
      "\n",
      "This is First Element in x: 1\n",
      "This is Second Element in x: 2\n",
      "This is Fifth (Last) Element in x: 5\n"
     ]
    }
   ],
   "source": [
    "# We create a rank 1 ndarray that contains integers from 1 to 5\n",
    "x = np.array([1, 2, 3, 4, 5])\n",
    "\n",
    "# We print x\n",
    "print()\n",
    "print('x = ', x)\n",
    "print()\n",
    "\n",
    "# Let's access some elements with positive indices\n",
    "print('This is First Element in x:', x[0]) \n",
    "print('This is Second Element in x:', x[1])\n",
    "print('This is Fifth (Last) Element in x:', x[4])\n",
    "print()\n",
    "\n",
    "# Let's access the same elements with negative indices\n",
    "print('This is First Element in x:', x[-5])\n",
    "print('This is Second Element in x:', x[-4])\n",
    "print('This is Fifth (Last) Element in x:', x[-1])"
   ]
  },
  {
   "cell_type": "code",
   "execution_count": 55,
   "metadata": {},
   "outputs": [
    {
     "name": "stdout",
     "output_type": "stream",
     "text": [
      "[1 2 3 4 3]\n"
     ]
    }
   ],
   "source": [
    "#modifying elements\n",
    "x = np.array([1, 2, 5, 4, 3])\n",
    "x[2]= 3\n",
    "print(x)"
   ]
  },
  {
   "cell_type": "code",
   "execution_count": 58,
   "metadata": {},
   "outputs": [
    {
     "name": "stdout",
     "output_type": "stream",
     "text": [
      "x= \n",
      " [[1 2 3]\n",
      " [4 5 6]\n",
      " [8 8 9]]\n",
      "modified x= \n",
      " [[1 2 3]\n",
      " [4 5 6]\n",
      " [7 8 9]]\n"
     ]
    }
   ],
   "source": [
    "#modifying elements in a 2-d array\n",
    "x = np.array([[1,2,3],[4,5,6],[8,8,9]])\n",
    "print(\"x= \\n\",x)\n",
    "x[2,0]= 7\n",
    "print(\"modified x= \\n\",x)"
   ]
  },
  {
   "cell_type": "markdown",
   "metadata": {},
   "source": [
    "###  Deleting elements"
   ]
  },
  {
   "cell_type": "code",
   "execution_count": 59,
   "metadata": {},
   "outputs": [
    {
     "name": "stdout",
     "output_type": "stream",
     "text": [
      "Original x = \n",
      " [1 2 3 4 5]\n",
      "Modified x= \n",
      " [2 3 4]\n"
     ]
    }
   ],
   "source": [
    "## Deleting element\n",
    "x = np.array([1, 2, 3, 4, 5])\n",
    "\n",
    "Y = np.array([[1,2,3],[4,5,6],[7,8,9]])\n",
    "\n",
    "print('Original x = \\n',x )\n",
    "#delete the first and last element of X \n",
    "x= np.delete(x,[0,4])\n",
    "print('Modified x= \\n',x)"
   ]
  },
  {
   "cell_type": "code",
   "execution_count": 63,
   "metadata": {},
   "outputs": [
    {
     "name": "stdout",
     "output_type": "stream",
     "text": [
      "Original Y : \n",
      " [[1 2 3]\n",
      " [4 5 6]\n",
      " [7 8 9]]\n",
      "w= \n",
      " [[4 5 6]\n",
      " [7 8 9]]\n",
      "v=\n",
      " [[2]\n",
      " [5]\n",
      " [8]]\n"
     ]
    }
   ],
   "source": [
    "#deleting elements from rank 2 matrix\n",
    "print('Original Y : \\n',Y)\n",
    "#delete the first row of Y\n",
    "w = np.delete(Y,0, axis =0)\n",
    "print('w= \\n',w)\n",
    "#delete the first row and last column of Y\n",
    "v = np.delete(Y,[0,2],axis=1)\n",
    "print('v=\\n',v)"
   ]
  },
  {
   "cell_type": "markdown",
   "metadata": {},
   "source": [
    "#### Appending and inserting values\n"
   ]
  },
  {
   "cell_type": "code",
   "execution_count": 67,
   "metadata": {},
   "outputs": [],
   "source": [
    "#rank 1 array\n",
    "x = np.array([1, 2, 3, 4, 5])\n",
    "#rank 2 ndarray \n",
    "Y = np.array([[1,2,3],[4,5,6]])"
   ]
  },
  {
   "cell_type": "code",
   "execution_count": 68,
   "metadata": {},
   "outputs": [
    {
     "name": "stdout",
     "output_type": "stream",
     "text": [
      "Original x = \n",
      " [1 2 3 4 5]\n",
      "modified x=\n",
      " [1 2 3 4 5 6]\n",
      "modified x=\n",
      " [ 1  2  3  4  5  6  8  9 10]\n"
     ]
    }
   ],
   "source": [
    "print('Original x = \\n',x)\n",
    "#add an integer to x\n",
    "x = np.append(x,6)\n",
    "print('modified x=\\n',x)\n",
    "# add three integers to x\n",
    "x = np.append(x,[8,9,10]) \n",
    "print('modified x=\\n',x)"
   ]
  },
  {
   "cell_type": "code",
   "execution_count": 69,
   "metadata": {},
   "outputs": [
    {
     "name": "stdout",
     "output_type": "stream",
     "text": [
      "Original Y=\n",
      " [[1 2 3]\n",
      " [4 5 6]]\n",
      "v=\n",
      " [[1 2 3]\n",
      " [4 5 6]\n",
      " [7 8 9]]\n",
      "w=\n",
      " [[ 1  2  3  9]\n",
      " [ 4  5  6 10]]\n"
     ]
    }
   ],
   "source": [
    "# add to rank 2 matrix\n",
    "print('Original Y=\\n',Y)\n",
    "#add a new row\n",
    "v = np.append(Y,[[7,8,9]],axis=0)\n",
    "print(\"v=\\n\",v)\n",
    "#add new column\n",
    "w = np.append(Y,[[9],[10]],axis=1)\n",
    "print('w=\\n',w)"
   ]
  },
  {
   "cell_type": "code",
   "execution_count": 70,
   "metadata": {},
   "outputs": [],
   "source": [
    "## inserting values using insert function at a specific location\n",
    "#  rank 1 ndarray \n",
    "x = np.array([1, 2, 5, 6, 7])\n",
    "\n",
    "# rank 2 ndarray \n",
    "Y = np.array([[1,2,3],[7,8,9]])"
   ]
  },
  {
   "cell_type": "code",
   "execution_count": 71,
   "metadata": {},
   "outputs": [
    {
     "name": "stdout",
     "output_type": "stream",
     "text": [
      "Original x = \n",
      " [1 2 5 6 7]\n",
      "modified x = \n",
      " [1 2 3 4 5 6 7]\n"
     ]
    }
   ],
   "source": [
    "print('Original x = \\n',x)\n",
    "#insert the integer 3 and 4 between 2 and 5 in x. \n",
    "x = np.insert(x,2,[3,4])\n",
    "print('modified x = \\n',x)"
   ]
  },
  {
   "cell_type": "code",
   "execution_count": 73,
   "metadata": {},
   "outputs": [
    {
     "name": "stdout",
     "output_type": "stream",
     "text": [
      "Original Y = \n",
      " [[1 2 3]\n",
      " [7 8 9]]\n",
      "w=\n",
      " [[1 2 3]\n",
      " [4 5 6]\n",
      " [7 8 9]]\n",
      "v=\n",
      " [[1 5 2 3]\n",
      " [7 5 8 9]]\n"
     ]
    }
   ],
   "source": [
    "print('Original Y = \\n', Y)\n",
    "\n",
    "# insert a row between the first and last row of y\n",
    "w = np.insert(Y,1,[4,5,6],axis=0)\n",
    "\n",
    "# insert a column full of 5s between the first and second column of y\n",
    "v = np.insert(Y,1,5, axis=1)\n",
    "\n",
    "print('w=\\n',w)\n",
    "print('v=\\n',v)"
   ]
  },
  {
   "cell_type": "markdown",
   "metadata": {},
   "source": [
    "### Hstack and Vstack functions for stacking the arrays"
   ]
  },
  {
   "cell_type": "code",
   "execution_count": 75,
   "metadata": {},
   "outputs": [
    {
     "name": "stdout",
     "output_type": "stream",
     "text": [
      "x =  [1 2]\n",
      "Y = \n",
      " [[3 4]\n",
      " [5 6]]\n",
      "z = \n",
      " [[1 2]\n",
      " [3 4]\n",
      " [5 6]]\n",
      "w=\n",
      " [[3 4 1]\n",
      " [5 6 2]]\n"
     ]
    }
   ],
   "source": [
    "# We create a rank 1 ndarray \n",
    "x = np.array([1,2])\n",
    "\n",
    "# We create a rank 2 ndarray \n",
    "Y = np.array([[3,4],[5,6]])\n",
    "\n",
    "\n",
    "print('x = ', x)\n",
    "\n",
    "print('Y = \\n', Y)\n",
    "\n",
    "# stack x on top of Y\n",
    "z = np.vstack((x,Y))\n",
    "\n",
    "# stack x on the right of Y. We need to reshape x in order to stack it on the right of Y. \n",
    "w = np.hstack((Y,x.reshape(2,1)))\n",
    "\n",
    "print('z = \\n', z)\n",
    "print('w=\\n',w)"
   ]
  },
  {
   "cell_type": "code",
   "execution_count": null,
   "metadata": {},
   "outputs": [],
   "source": []
  }
 ],
 "metadata": {
  "kernelspec": {
   "display_name": "Python 3",
   "language": "python",
   "name": "python3"
  },
  "language_info": {
   "codemirror_mode": {
    "name": "ipython",
    "version": 3
   },
   "file_extension": ".py",
   "mimetype": "text/x-python",
   "name": "python",
   "nbconvert_exporter": "python",
   "pygments_lexer": "ipython3",
   "version": "3.7.7"
  }
 },
 "nbformat": 4,
 "nbformat_minor": 4
}
