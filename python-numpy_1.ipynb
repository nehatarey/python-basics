{
 "cells": [
  {
   "cell_type": "markdown",
   "metadata": {},
   "source": [
    "# Python NumPy\n",
    "**NumPy** or Numerical Python is a fundamental package for scientific computing in Python. It provides Python with extensive mathemetical libraries thus making it capable of performing numerical computations effectively and efficiently. Python can handle lists on its own, but **NumPy arrays** are faster thus providing an advantage when dealing with large arrays. Because NumPy arrays hold single type of data, thus the calculationg become much faster. NumPy also provides multi-dimensional data structures such as vectors and matrices that are highly used in Neural Networks. NumPy is very much optimized to handle matrix operations and allows us to do Linear Algebra very fast and efficiently, thus it is very much suitable for solving machine learning problems. \n",
    "NumPy also provides large number of built-in mathematical functions that are optimized and perform fast maathematical calculations. Infact, **Pandas** are also built using on top of **NumPy**."
   ]
  },
  {
   "cell_type": "code",
   "execution_count": 6,
   "metadata": {},
   "outputs": [
    {
     "name": "stdout",
     "output_type": "stream",
     "text": [
      "# packages in environment at /Users/nehatarey/opt/anaconda3:\r\n",
      "#\r\n",
      "# Name                    Version                   Build  Channel\r\n",
      "numpy                     1.18.1           py37h7241aed_0  \r\n",
      "numpy-base                1.18.1           py37h6575580_1  \r\n",
      "numpydoc                  0.9.2                      py_0  \r\n"
     ]
    }
   ],
   "source": [
    "#check the version of NumPy installed in your local\n",
    "!conda list numpy"
   ]
  },
  {
   "cell_type": "markdown",
   "metadata": {},
   "source": [
    "#### Compare the difference between calculation times in Plain Python and NumPy"
   ]
  },
  {
   "cell_type": "code",
   "execution_count": 7,
   "metadata": {},
   "outputs": [],
   "source": [
    "import time  #for time diff calc\n",
    "import numpy as np"
   ]
  },
  {
   "cell_type": "code",
   "execution_count": 8,
   "metadata": {},
   "outputs": [],
   "source": [
    "#generate 10 million random numbers\n",
    "x = np.random.random(100000000)"
   ]
  },
  {
   "cell_type": "code",
   "execution_count": 9,
   "metadata": {},
   "outputs": [
    {
     "name": "stdout",
     "output_type": "stream",
     "text": [
      "14.719552993774414\n"
     ]
    }
   ],
   "source": [
    "#use plain python to calculate mean\n",
    "start = time.time() #capture start time\n",
    "sum(x)/len(x)\n",
    "print(time.time()-start) #print the time diff"
   ]
  },
  {
   "cell_type": "code",
   "execution_count": 10,
   "metadata": {},
   "outputs": [
    {
     "name": "stdout",
     "output_type": "stream",
     "text": [
      "0.0673668384552002\n"
     ]
    }
   ],
   "source": [
    "# use Numpy for mean calculation\n",
    "start = time.time() # capture start time\n",
    "np.mean(x)\n",
    "print(time.time()-start) # print time diff"
   ]
  },
  {
   "cell_type": "markdown",
   "metadata": {},
   "source": [
    "The core of NumPy is the ndarray or n-dimensional array. The *ndarray* is a multi-dimensional array of all the same type of elements. It can hold either all strings or all numbers. There are multiple ways to create NumPy arrays. ndarrays can be created in two ways in NumPy :\n",
    "- Using regular Python lists\n",
    "- Using built-in NumPy functions"
   ]
  },
  {
   "cell_type": "code",
   "execution_count": 11,
   "metadata": {},
   "outputs": [
    {
     "name": "stdout",
     "output_type": "stream",
     "text": [
      "[1 2 3 4 5 6]\n"
     ]
    }
   ],
   "source": [
    "# 1st way \n",
    "import numpy as np\n",
    "\n",
    "x = np.array([1,2,3,4,5,6])\n",
    "print(x)"
   ]
  },
  {
   "cell_type": "code",
   "execution_count": 14,
   "metadata": {},
   "outputs": [
    {
     "data": {
      "text/plain": [
       "dtype('int64')"
      ]
     },
     "execution_count": 14,
     "metadata": {},
     "output_type": "execute_result"
    }
   ],
   "source": [
    "x.dtype"
   ]
  },
  {
   "cell_type": "code",
   "execution_count": 15,
   "metadata": {},
   "outputs": [
    {
     "data": {
      "text/plain": [
       "(6,)"
      ]
     },
     "execution_count": 15,
     "metadata": {},
     "output_type": "execute_result"
    }
   ],
   "source": [
    "x.shape # returns rows, col"
   ]
  },
  {
   "cell_type": "code",
   "execution_count": 17,
   "metadata": {},
   "outputs": [
    {
     "name": "stdout",
     "output_type": "stream",
     "text": [
      "[[ 1  2  3]\n",
      " [ 4  5  6]\n",
      " [23 45 67]\n",
      " [ 4  7  8]]\n"
     ]
    }
   ],
   "source": [
    "# 2-d array\n",
    "y= np.array([[1,2,3],[4,5,6],[23,45,67],[4,7,8]])\n",
    "print(y)"
   ]
  },
  {
   "cell_type": "code",
   "execution_count": 18,
   "metadata": {},
   "outputs": [
    {
     "data": {
      "text/plain": [
       "dtype('int64')"
      ]
     },
     "execution_count": 18,
     "metadata": {},
     "output_type": "execute_result"
    }
   ],
   "source": [
    "y.dtype"
   ]
  },
  {
   "cell_type": "code",
   "execution_count": 19,
   "metadata": {},
   "outputs": [
    {
     "data": {
      "text/plain": [
       "(4, 3)"
      ]
     },
     "execution_count": 19,
     "metadata": {},
     "output_type": "execute_result"
    }
   ],
   "source": [
    "y.shape"
   ]
  },
  {
   "cell_type": "code",
   "execution_count": 20,
   "metadata": {},
   "outputs": [
    {
     "data": {
      "text/plain": [
       "12"
      ]
     },
     "execution_count": 20,
     "metadata": {},
     "output_type": "execute_result"
    }
   ],
   "source": [
    "y.size"
   ]
  },
  {
   "cell_type": "code",
   "execution_count": 22,
   "metadata": {},
   "outputs": [
    {
     "name": "stdout",
     "output_type": "stream",
     "text": [
      "['Hello' 'World']\n",
      "shape : (2,)\n",
      "type : <class 'numpy.ndarray'>\n",
      "dtype : <U5\n"
     ]
    }
   ],
   "source": [
    "# rank 1 array of strings\n",
    "x = np.array(['Hello', 'World'])\n",
    "print(x)\n",
    "print('shape :', x.shape)\n",
    "print('type :', type(x))\n",
    "print('dtype :',x.dtype)"
   ]
  },
  {
   "cell_type": "markdown",
   "metadata": {},
   "source": [
    "#### Upcasting\n",
    "NumPy arrays that have mixed data types, NumPy upcasts the elements to ensure that all the data types in an array are of the same type. For eg, if an array has mixed integers and floats, NumPy will upgrade all the ints to floats. It does so to ensure precision in the mathematical calculations. We can manually assign a certain dtype to a NumPy array by specifying it while creating the array."
   ]
  },
  {
   "cell_type": "code",
   "execution_count": 23,
   "metadata": {},
   "outputs": [
    {
     "name": "stdout",
     "output_type": "stream",
     "text": [
      "['Hello' 'World' '1']\n",
      "shape : (3,)\n",
      "type : <class 'numpy.ndarray'>\n",
      "dtype : <U5\n"
     ]
    }
   ],
   "source": [
    "# mixed strings and numbers\n",
    "x = np.array(['Hello','World',1])\n",
    "print(x)\n",
    "print('shape :', x.shape)\n",
    "print('type :', type(x))\n",
    "print('dtype :',x.dtype) # all the data tyoes are converted to unicode"
   ]
  },
  {
   "cell_type": "code",
   "execution_count": 24,
   "metadata": {},
   "outputs": [
    {
     "name": "stdout",
     "output_type": "stream",
     "text": [
      "[1.  2.  3.5]\n",
      "shape : (3,)\n",
      "type : <class 'numpy.ndarray'>\n",
      "dtype : float64\n"
     ]
    }
   ],
   "source": [
    "#mixed ints and floats\n",
    "x = np.array([1, 2, 3.5])\n",
    "print(x)\n",
    "print('shape :', x.shape)\n",
    "print('type :', type(x))\n",
    "print('dtype :',x.dtype) # everything is float now"
   ]
  },
  {
   "cell_type": "code",
   "execution_count": 25,
   "metadata": {},
   "outputs": [
    {
     "name": "stdout",
     "output_type": "stream",
     "text": [
      "[1 3 5]\n",
      "shape : (3,)\n",
      "type : <class 'numpy.ndarray'>\n",
      "dtype : int64\n"
     ]
    }
   ],
   "source": [
    "# Manually assign a dtype to forcefully ensure that type of precision\n",
    "x = np.array([1.2, 3.4, 5], dtype = np.int64)\n",
    "print(x)\n",
    "print('shape :', x.shape)\n",
    "print('type :', type(x))\n",
    "print('dtype :',x.dtype)"
   ]
  },
  {
   "cell_type": "markdown",
   "metadata": {},
   "source": [
    "#### Save the array to file and load from file\n"
   ]
  },
  {
   "cell_type": "code",
   "execution_count": 27,
   "metadata": {},
   "outputs": [],
   "source": [
    "x= np.array([1,2,3,4,5])\n",
    "#following will save the array x in a file names my_array in the current working directory\n",
    "np.save(\"my_array\",x) # file is saved with extension .npy"
   ]
  },
  {
   "cell_type": "code",
   "execution_count": 29,
   "metadata": {},
   "outputs": [
    {
     "name": "stdout",
     "output_type": "stream",
     "text": [
      "[1 2 3 4 5]\n"
     ]
    }
   ],
   "source": [
    "#load an array from the saved file\n",
    "y = np.load(\"my_array.npy\")\n",
    "print(y)"
   ]
  },
  {
   "cell_type": "markdown",
   "metadata": {},
   "source": [
    "#### Creating ndarrays using built-in functions"
   ]
  },
  {
   "cell_type": "code",
   "execution_count": null,
   "metadata": {},
   "outputs": [],
   "source": []
  }
 ],
 "metadata": {
  "kernelspec": {
   "display_name": "Python 3",
   "language": "python",
   "name": "python3"
  },
  "language_info": {
   "codemirror_mode": {
    "name": "ipython",
    "version": 3
   },
   "file_extension": ".py",
   "mimetype": "text/x-python",
   "name": "python",
   "nbconvert_exporter": "python",
   "pygments_lexer": "ipython3",
   "version": "3.7.7"
  }
 },
 "nbformat": 4,
 "nbformat_minor": 4
}
